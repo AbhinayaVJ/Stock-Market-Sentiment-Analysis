{
 "cells": [
  {
   "cell_type": "code",
   "execution_count": null,
   "id": "2fd07c28",
   "metadata": {
    "_cell_guid": "b1076dfc-b9ad-4769-8c92-a6c4dae69d19",
    "_uuid": "8f2839f25d086af736a60e9eeb907d3b93b6e0e5",
    "execution": {
     "iopub.execute_input": "2025-06-02T19:19:49.933141Z",
     "iopub.status.busy": "2025-06-02T19:19:49.932843Z",
     "iopub.status.idle": "2025-06-02T19:19:51.715601Z",
     "shell.execute_reply": "2025-06-02T19:19:51.714529Z"
    },
    "papermill": {
     "duration": 1.790135,
     "end_time": "2025-06-02T19:19:51.717046",
     "exception": false,
     "start_time": "2025-06-02T19:19:49.926911",
     "status": "completed"
    },
    "tags": []
   },
   "outputs": [
    {
     "name": "stdout",
     "output_type": "stream",
     "text": [
      "/kaggle/input/stockmarket-sentiment-dataset/stock_data.csv\n"
     ]
    }
   ],
   "source": [
    "\n",
    "import numpy as np # linear algebra\n",
    "import pandas as pd # data processing, CSV file I/O (e.g. pd.read_csv)\n",
    "\n",
    "\n",
    "import os\n",
    "for dirname, _, filenames in os.walk('/kaggle/input'):\n",
    "    for filename in filenames:\n",
    "        print(os.path.join(dirname, filename))\n",
    "\n"
   ]
  },
  {
   "cell_type": "code",
   "execution_count": 2,
   "id": "a5efc990",
   "metadata": {
    "execution": {
     "iopub.execute_input": "2025-06-02T19:19:51.726316Z",
     "iopub.status.busy": "2025-06-02T19:19:51.725463Z",
     "iopub.status.idle": "2025-06-02T19:19:51.775866Z",
     "shell.execute_reply": "2025-06-02T19:19:51.775123Z"
    },
    "papermill": {
     "duration": 0.05644,
     "end_time": "2025-06-02T19:19:51.777422",
     "exception": false,
     "start_time": "2025-06-02T19:19:51.720982",
     "status": "completed"
    },
    "tags": []
   },
   "outputs": [],
   "source": [
    "import pandas as pd\n",
    "import numpy as np\n",
    "\n",
    "df = pd.read_csv('/kaggle/input/stockmarket-sentiment-dataset/stock_data.csv')"
   ]
  },
  {
   "cell_type": "code",
   "execution_count": 3,
   "id": "772c8cdc",
   "metadata": {
    "execution": {
     "iopub.execute_input": "2025-06-02T19:19:51.785731Z",
     "iopub.status.busy": "2025-06-02T19:19:51.785406Z",
     "iopub.status.idle": "2025-06-02T19:19:51.792659Z",
     "shell.execute_reply": "2025-06-02T19:19:51.791724Z"
    },
    "papermill": {
     "duration": 0.012925,
     "end_time": "2025-06-02T19:19:51.794100",
     "exception": false,
     "start_time": "2025-06-02T19:19:51.781175",
     "status": "completed"
    },
    "tags": []
   },
   "outputs": [],
   "source": [
    "df.dropna(inplace = True)"
   ]
  },
  {
   "cell_type": "code",
   "execution_count": 4,
   "id": "6e0e24a1",
   "metadata": {
    "execution": {
     "iopub.execute_input": "2025-06-02T19:19:51.802556Z",
     "iopub.status.busy": "2025-06-02T19:19:51.802245Z",
     "iopub.status.idle": "2025-06-02T19:19:54.132231Z",
     "shell.execute_reply": "2025-06-02T19:19:54.131440Z"
    },
    "papermill": {
     "duration": 2.336143,
     "end_time": "2025-06-02T19:19:54.133897",
     "exception": false,
     "start_time": "2025-06-02T19:19:51.797754",
     "status": "completed"
    },
    "tags": []
   },
   "outputs": [],
   "source": [
    "import re\n",
    "import nltk\n",
    "from nltk.corpus import stopwords\n",
    "\n",
    "def preprocessing_text(text):\n",
    "    text = text.lower()\n",
    "    text  = re.sub(r'\\[.*?\\]','',text)\n",
    "    text  = re.sub(r'<.*?>','',text)\n",
    "    text  = re.sub(r'https+//S+ | www\\.S+','',text)\n",
    "    text = re.sub(r'[^a-zA-Z0-9\\s]','',text)\n",
    "    #text = re.sub(r'\\s+', ' ', text).strip()\n",
    "    return text\n",
    "\n",
    "df['Text'] = df['Text'].apply(preprocessing_text)"
   ]
  },
  {
   "cell_type": "code",
   "execution_count": 5,
   "id": "225d9d1e",
   "metadata": {
    "execution": {
     "iopub.execute_input": "2025-06-02T19:19:54.143051Z",
     "iopub.status.busy": "2025-06-02T19:19:54.142608Z",
     "iopub.status.idle": "2025-06-02T19:19:57.584704Z",
     "shell.execute_reply": "2025-06-02T19:19:57.583966Z"
    },
    "papermill": {
     "duration": 3.448493,
     "end_time": "2025-06-02T19:19:57.586347",
     "exception": false,
     "start_time": "2025-06-02T19:19:54.137854",
     "status": "completed"
    },
    "tags": []
   },
   "outputs": [],
   "source": [
    "from nltk.stem import WordNetLemmatizer\n",
    "wnl = WordNetLemmatizer()\n",
    "stop_words = set(stopwords.words('english'))\n",
    "def lemm(text):\n",
    "    text  = text.split(' ')\n",
    "    text = [wnl.lemmatize(word) for word in text if word not in  stop_words]\n",
    "    text = ' '.join(text)\n",
    "    return text\n",
    "\n",
    "df['Text'] = df['Text'].apply(lemm)"
   ]
  },
  {
   "cell_type": "code",
   "execution_count": 6,
   "id": "9614b3ee",
   "metadata": {
    "execution": {
     "iopub.execute_input": "2025-06-02T19:19:57.594526Z",
     "iopub.status.busy": "2025-06-02T19:19:57.594222Z",
     "iopub.status.idle": "2025-06-02T19:20:13.334476Z",
     "shell.execute_reply": "2025-06-02T19:20:13.333700Z"
    },
    "papermill": {
     "duration": 15.746016,
     "end_time": "2025-06-02T19:20:13.336088",
     "exception": false,
     "start_time": "2025-06-02T19:19:57.590072",
     "status": "completed"
    },
    "tags": []
   },
   "outputs": [
    {
     "name": "stderr",
     "output_type": "stream",
     "text": [
      "2025-06-02 19:19:59.313637: E external/local_xla/xla/stream_executor/cuda/cuda_fft.cc:477] Unable to register cuFFT factory: Attempting to register factory for plugin cuFFT when one has already been registered\n",
      "WARNING: All log messages before absl::InitializeLog() is called are written to STDERR\n",
      "E0000 00:00:1748891999.547816      13 cuda_dnn.cc:8310] Unable to register cuDNN factory: Attempting to register factory for plugin cuDNN when one has already been registered\n",
      "E0000 00:00:1748891999.615069      13 cuda_blas.cc:1418] Unable to register cuBLAS factory: Attempting to register factory for plugin cuBLAS when one has already been registered\n"
     ]
    }
   ],
   "source": [
    "from tensorflow.keras.preprocessing.text import Tokenizer\n",
    "tokenizer = Tokenizer(oov_token = 'oov')\n",
    "tokenizer.fit_on_texts(df['Text'])"
   ]
  },
  {
   "cell_type": "code",
   "execution_count": 7,
   "id": "5df38ac4",
   "metadata": {
    "execution": {
     "iopub.execute_input": "2025-06-02T19:20:13.345565Z",
     "iopub.status.busy": "2025-06-02T19:20:13.344507Z",
     "iopub.status.idle": "2025-06-02T19:20:13.350810Z",
     "shell.execute_reply": "2025-06-02T19:20:13.350153Z"
    },
    "papermill": {
     "duration": 0.011986,
     "end_time": "2025-06-02T19:20:13.352078",
     "exception": false,
     "start_time": "2025-06-02T19:20:13.340092",
     "status": "completed"
    },
    "tags": []
   },
   "outputs": [
    {
     "data": {
      "text/plain": [
       "10745"
      ]
     },
     "execution_count": 7,
     "metadata": {},
     "output_type": "execute_result"
    }
   ],
   "source": [
    "len(tokenizer.word_index)"
   ]
  },
  {
   "cell_type": "code",
   "execution_count": 8,
   "id": "13915c75",
   "metadata": {
    "execution": {
     "iopub.execute_input": "2025-06-02T19:20:13.361211Z",
     "iopub.status.busy": "2025-06-02T19:20:13.360888Z",
     "iopub.status.idle": "2025-06-02T19:20:13.420956Z",
     "shell.execute_reply": "2025-06-02T19:20:13.420117Z"
    },
    "papermill": {
     "duration": 0.066652,
     "end_time": "2025-06-02T19:20:13.422874",
     "exception": false,
     "start_time": "2025-06-02T19:20:13.356222",
     "status": "completed"
    },
    "tags": []
   },
   "outputs": [],
   "source": [
    "sequences = tokenizer.texts_to_sequences(df['Text'])"
   ]
  },
  {
   "cell_type": "code",
   "execution_count": 9,
   "id": "7bb2b4c3",
   "metadata": {
    "execution": {
     "iopub.execute_input": "2025-06-02T19:20:13.432275Z",
     "iopub.status.busy": "2025-06-02T19:20:13.431974Z",
     "iopub.status.idle": "2025-06-02T19:20:13.436764Z",
     "shell.execute_reply": "2025-06-02T19:20:13.435886Z"
    },
    "papermill": {
     "duration": 0.011059,
     "end_time": "2025-06-02T19:20:13.438112",
     "exception": false,
     "start_time": "2025-06-02T19:20:13.427053",
     "status": "completed"
    },
    "tags": []
   },
   "outputs": [],
   "source": [
    "max_len = max([len(seq) for seq in sequences])"
   ]
  },
  {
   "cell_type": "code",
   "execution_count": 10,
   "id": "ca0fa3f8",
   "metadata": {
    "execution": {
     "iopub.execute_input": "2025-06-02T19:20:13.446989Z",
     "iopub.status.busy": "2025-06-02T19:20:13.446686Z",
     "iopub.status.idle": "2025-06-02T19:20:13.465628Z",
     "shell.execute_reply": "2025-06-02T19:20:13.464637Z"
    },
    "papermill": {
     "duration": 0.025238,
     "end_time": "2025-06-02T19:20:13.467175",
     "exception": false,
     "start_time": "2025-06-02T19:20:13.441937",
     "status": "completed"
    },
    "tags": []
   },
   "outputs": [],
   "source": [
    "from tensorflow.keras.preprocessing.sequence import pad_sequences\n",
    "\n",
    "padded_sequences = pad_sequences(sequences , maxlen = max_len , padding = 'post' )"
   ]
  },
  {
   "cell_type": "code",
   "execution_count": 11,
   "id": "5abfe6e5",
   "metadata": {
    "execution": {
     "iopub.execute_input": "2025-06-02T19:20:13.475750Z",
     "iopub.status.busy": "2025-06-02T19:20:13.475486Z",
     "iopub.status.idle": "2025-06-02T19:20:13.482780Z",
     "shell.execute_reply": "2025-06-02T19:20:13.482131Z"
    },
    "papermill": {
     "duration": 0.013003,
     "end_time": "2025-06-02T19:20:13.483990",
     "exception": false,
     "start_time": "2025-06-02T19:20:13.470987",
     "status": "completed"
    },
    "tags": []
   },
   "outputs": [],
   "source": [
    "df['Sentiment_2'] = (df['Sentiment'] + 1) // 2\n",
    "X = padded_sequences\n",
    "y  = df['Sentiment_2'].values\n",
    "\n",
    "\n"
   ]
  },
  {
   "cell_type": "code",
   "execution_count": null,
   "id": "dabac04a",
   "metadata": {
    "execution": {
     "iopub.execute_input": "2025-06-02T19:14:45.793802Z",
     "iopub.status.busy": "2025-06-02T19:14:45.793399Z",
     "iopub.status.idle": "2025-06-02T19:14:45.800223Z",
     "shell.execute_reply": "2025-06-02T19:14:45.799132Z",
     "shell.execute_reply.started": "2025-06-02T19:14:45.793776Z"
    },
    "papermill": {
     "duration": 0.003413,
     "end_time": "2025-06-02T19:20:13.491166",
     "exception": false,
     "start_time": "2025-06-02T19:20:13.487753",
     "status": "completed"
    },
    "tags": []
   },
   "outputs": [],
   "source": []
  },
  {
   "cell_type": "code",
   "execution_count": 12,
   "id": "b802c56e",
   "metadata": {
    "execution": {
     "iopub.execute_input": "2025-06-02T19:20:13.499630Z",
     "iopub.status.busy": "2025-06-02T19:20:13.498839Z",
     "iopub.status.idle": "2025-06-02T19:20:13.504454Z",
     "shell.execute_reply": "2025-06-02T19:20:13.503780Z"
    },
    "papermill": {
     "duration": 0.011221,
     "end_time": "2025-06-02T19:20:13.505760",
     "exception": false,
     "start_time": "2025-06-02T19:20:13.494539",
     "status": "completed"
    },
    "tags": []
   },
   "outputs": [],
   "source": [
    "from sklearn.model_selection import train_test_split\n",
    "\n",
    "X_train, X_test, y_train, y_test = train_test_split(X, y, test_size=0.2, random_state=42)\n"
   ]
  },
  {
   "cell_type": "code",
   "execution_count": 13,
   "id": "013c0931",
   "metadata": {
    "execution": {
     "iopub.execute_input": "2025-06-02T19:20:13.514578Z",
     "iopub.status.busy": "2025-06-02T19:20:13.513984Z",
     "iopub.status.idle": "2025-06-02T19:20:13.521190Z",
     "shell.execute_reply": "2025-06-02T19:20:13.520543Z"
    },
    "papermill": {
     "duration": 0.013044,
     "end_time": "2025-06-02T19:20:13.522515",
     "exception": false,
     "start_time": "2025-06-02T19:20:13.509471",
     "status": "completed"
    },
    "tags": []
   },
   "outputs": [],
   "source": [
    "from tensorflow.keras.models import Sequential\n",
    "from tensorflow.keras.layers import Dense , LSTM , Embedding , Bidirectional, Dropout"
   ]
  },
  {
   "cell_type": "code",
   "execution_count": 14,
   "id": "efab4c49",
   "metadata": {
    "execution": {
     "iopub.execute_input": "2025-06-02T19:20:13.531270Z",
     "iopub.status.busy": "2025-06-02T19:20:13.530569Z",
     "iopub.status.idle": "2025-06-02T19:20:13.580356Z",
     "shell.execute_reply": "2025-06-02T19:20:13.579691Z"
    },
    "papermill": {
     "duration": 0.055697,
     "end_time": "2025-06-02T19:20:13.581889",
     "exception": false,
     "start_time": "2025-06-02T19:20:13.526192",
     "status": "completed"
    },
    "tags": []
   },
   "outputs": [
    {
     "name": "stderr",
     "output_type": "stream",
     "text": [
      "/usr/local/lib/python3.11/dist-packages/keras/src/layers/core/embedding.py:90: UserWarning: Argument `input_length` is deprecated. Just remove it.\n",
      "  warnings.warn(\n",
      "2025-06-02 19:20:13.538867: E external/local_xla/xla/stream_executor/cuda/cuda_driver.cc:152] failed call to cuInit: INTERNAL: CUDA error: Failed call to cuInit: UNKNOWN ERROR (303)\n"
     ]
    }
   ],
   "source": [
    "model = Sequential ([\n",
    "    Embedding(10746 , 128, input_length = 24),\n",
    "    LSTM(8),\n",
    "#    Dense(32, activation = 'relu'),\n",
    "    Dropout(0.5),\n",
    "    Dense(1, activation  = 'sigmoid')\n",
    "])\n",
    "\n"
   ]
  },
  {
   "cell_type": "code",
   "execution_count": 15,
   "id": "7101789a",
   "metadata": {
    "execution": {
     "iopub.execute_input": "2025-06-02T19:20:13.590646Z",
     "iopub.status.busy": "2025-06-02T19:20:13.589921Z",
     "iopub.status.idle": "2025-06-02T19:20:13.609162Z",
     "shell.execute_reply": "2025-06-02T19:20:13.608578Z"
    },
    "papermill": {
     "duration": 0.025222,
     "end_time": "2025-06-02T19:20:13.610770",
     "exception": false,
     "start_time": "2025-06-02T19:20:13.585548",
     "status": "completed"
    },
    "tags": []
   },
   "outputs": [],
   "source": [
    "model.compile(optimizer= 'adam' , loss = 'binary_crossentropy' , metrics = ['accuracy'])"
   ]
  },
  {
   "cell_type": "code",
   "execution_count": 16,
   "id": "2a6b7a7a",
   "metadata": {
    "execution": {
     "iopub.execute_input": "2025-06-02T19:20:13.619985Z",
     "iopub.status.busy": "2025-06-02T19:20:13.619300Z",
     "iopub.status.idle": "2025-06-02T19:20:27.810887Z",
     "shell.execute_reply": "2025-06-02T19:20:27.810152Z"
    },
    "papermill": {
     "duration": 14.197691,
     "end_time": "2025-06-02T19:20:27.812457",
     "exception": false,
     "start_time": "2025-06-02T19:20:13.614766",
     "status": "completed"
    },
    "tags": []
   },
   "outputs": [
    {
     "name": "stdout",
     "output_type": "stream",
     "text": [
      "Epoch 1/5\n",
      "\u001b[1m116/116\u001b[0m \u001b[32m━━━━━━━━━━━━━━━━━━━━\u001b[0m\u001b[37m\u001b[0m \u001b[1m7s\u001b[0m 20ms/step - accuracy: 0.6302 - loss: 0.6670 - val_accuracy: 0.6268 - val_loss: 0.6651\n",
      "Epoch 2/5\n",
      "\u001b[1m116/116\u001b[0m \u001b[32m━━━━━━━━━━━━━━━━━━━━\u001b[0m\u001b[37m\u001b[0m \u001b[1m2s\u001b[0m 16ms/step - accuracy: 0.6415 - loss: 0.6538 - val_accuracy: 0.7584 - val_loss: 0.5479\n",
      "Epoch 3/5\n",
      "\u001b[1m116/116\u001b[0m \u001b[32m━━━━━━━━━━━━━━━━━━━━\u001b[0m\u001b[37m\u001b[0m \u001b[1m2s\u001b[0m 17ms/step - accuracy: 0.8466 - loss: 0.4157 - val_accuracy: 0.7551 - val_loss: 0.5946\n",
      "Epoch 4/5\n",
      "\u001b[1m116/116\u001b[0m \u001b[32m━━━━━━━━━━━━━━━━━━━━\u001b[0m\u001b[37m\u001b[0m \u001b[1m2s\u001b[0m 16ms/step - accuracy: 0.9418 - loss: 0.2355 - val_accuracy: 0.7422 - val_loss: 0.7767\n",
      "Epoch 5/5\n",
      "\u001b[1m116/116\u001b[0m \u001b[32m━━━━━━━━━━━━━━━━━━━━\u001b[0m\u001b[37m\u001b[0m \u001b[1m2s\u001b[0m 16ms/step - accuracy: 0.9728 - loss: 0.1519 - val_accuracy: 0.7271 - val_loss: 0.8977\n"
     ]
    }
   ],
   "source": [
    "history = model.fit(X_train , y_train , epochs= 5 , validation_split = 0.2)"
   ]
  },
  {
   "cell_type": "code",
   "execution_count": 17,
   "id": "4960c71d",
   "metadata": {
    "execution": {
     "iopub.execute_input": "2025-06-02T19:20:27.838322Z",
     "iopub.status.busy": "2025-06-02T19:20:27.837535Z",
     "iopub.status.idle": "2025-06-02T19:20:28.533323Z",
     "shell.execute_reply": "2025-06-02T19:20:28.532173Z"
    },
    "papermill": {
     "duration": 0.709665,
     "end_time": "2025-06-02T19:20:28.534761",
     "exception": false,
     "start_time": "2025-06-02T19:20:27.825096",
     "status": "completed"
    },
    "tags": []
   },
   "outputs": [
    {
     "name": "stdout",
     "output_type": "stream",
     "text": [
      "\u001b[1m37/37\u001b[0m \u001b[32m━━━━━━━━━━━━━━━━━━━━\u001b[0m\u001b[37m\u001b[0m \u001b[1m1s\u001b[0m 10ms/step\n",
      "              precision    recall  f1-score   support\n",
      "\n",
      "           0       0.59      0.77      0.67       427\n",
      "           1       0.84      0.69      0.76       732\n",
      "\n",
      "    accuracy                           0.72      1159\n",
      "   macro avg       0.72      0.73      0.71      1159\n",
      "weighted avg       0.75      0.72      0.73      1159\n",
      "\n"
     ]
    }
   ],
   "source": [
    "from sklearn.metrics import classification_report\n",
    "\n",
    "y_pred = (model.predict(X_test) > 0.5).astype(\"int32\")\n",
    "print(classification_report(y_test, y_pred))"
   ]
  },
  {
   "cell_type": "code",
   "execution_count": null,
   "id": "f4815ec0",
   "metadata": {
    "execution": {
     "iopub.execute_input": "2025-06-02T19:13:06.756376Z",
     "iopub.status.busy": "2025-06-02T19:13:06.756058Z",
     "iopub.status.idle": "2025-06-02T19:13:06.762839Z",
     "shell.execute_reply": "2025-06-02T19:13:06.761808Z",
     "shell.execute_reply.started": "2025-06-02T19:13:06.756355Z"
    },
    "papermill": {
     "duration": 0.011228,
     "end_time": "2025-06-02T19:20:28.557527",
     "exception": false,
     "start_time": "2025-06-02T19:20:28.546299",
     "status": "completed"
    },
    "tags": []
   },
   "outputs": [],
   "source": []
  }
 ],
 "metadata": {
  "kaggle": {
   "accelerator": "none",
   "dataSources": [
    {
     "datasetId": 695933,
     "sourceId": 1217821,
     "sourceType": "datasetVersion"
    }
   ],
   "dockerImageVersionId": 31040,
   "isGpuEnabled": false,
   "isInternetEnabled": true,
   "language": "python",
   "sourceType": "notebook"
  },
  "kernelspec": {
   "display_name": "Python 3",
   "language": "python",
   "name": "python3"
  },
  "language_info": {
   "codemirror_mode": {
    "name": "ipython",
    "version": 3
   },
   "file_extension": ".py",
   "mimetype": "text/x-python",
   "name": "python",
   "nbconvert_exporter": "python",
   "pygments_lexer": "ipython3",
   "version": "3.11.11"
  },
  "papermill": {
   "default_parameters": {},
   "duration": 46.128032,
   "end_time": "2025-06-02T19:20:31.390756",
   "environment_variables": {},
   "exception": null,
   "input_path": "__notebook__.ipynb",
   "output_path": "__notebook__.ipynb",
   "parameters": {},
   "start_time": "2025-06-02T19:19:45.262724",
   "version": "2.6.0"
  }
 },
 "nbformat": 4,
 "nbformat_minor": 5
}
